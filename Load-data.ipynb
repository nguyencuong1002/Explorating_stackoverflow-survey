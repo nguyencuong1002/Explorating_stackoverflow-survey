{
 "cells": [
  {
   "cell_type": "code",
   "execution_count": 1,
   "id": "2d10b446",
   "metadata": {},
   "outputs": [],
   "source": [
    "import pandas as pd"
   ]
  },
  {
   "cell_type": "code",
   "execution_count": 3,
   "id": "70a8a229",
   "metadata": {},
   "outputs": [
    {
     "name": "stdout",
     "output_type": "stream",
     "text": [
      "<_io.TextIOWrapper name='D:\\\\Desktop\\\\File Jupiter NoteBook\\\\FreeCodeCamp/btc-market-price.csv' mode='r' encoding='cp1252'>\n"
     ]
    }
   ],
   "source": [
    "with open('D:\\Desktop\\File Jupiter NoteBook\\FreeCodeCamp/btc-market-price_miss.csv', 'r') as fp:\n",
    "    print(fp)"
   ]
  },
  {
   "cell_type": "code",
   "execution_count": 10,
   "id": "6b2f6e69",
   "metadata": {},
   "outputs": [
    {
     "name": "stdout",
     "output_type": "stream",
     "text": [
      "0 2/4/17 0:00,1099.169125\n",
      "\n",
      "1 3/4/17 0:00,1141.813\n",
      "\n",
      "2 4/4/17 0:00,?\n",
      "\n",
      "3 5/4/17 0:00,1133.079314\n",
      "\n",
      "4 6/4/17 0:00,-\n",
      "\n",
      "5 7/4/17 0:00,-\n",
      "\n",
      "6 8/4/17 0:00,1181.149838\n",
      "\n",
      "7 9/4/17 0:00,1208.8005\n",
      "\n",
      "8 10/4/17 0:00,1207.744875\n",
      "\n",
      "9 11/4/17 0:00,1226.617038\n",
      "\n"
     ]
    }
   ],
   "source": [
    "with open('D:\\Desktop\\File Jupiter NoteBook\\FreeCodeCamp/btc-market-price_miss.csv', 'r') as fp:\n",
    "    for index, line in enumerate(fp.readlines()):\n",
    "        if(index < 10):\n",
    "            print(index, line)"
   ]
  },
  {
   "cell_type": "code",
   "execution_count": 14,
   "id": "d704606a",
   "metadata": {},
   "outputs": [],
   "source": [
    "import csv"
   ]
  },
  {
   "cell_type": "code",
   "execution_count": 15,
   "id": "db0ccdd3",
   "metadata": {},
   "outputs": [
    {
     "name": "stdout",
     "output_type": "stream",
     "text": [
      "2/4/17 0:00 : 1099.169125\n",
      "3/4/17 0:00 : 1141.813\n",
      "4/4/17 0:00 : ?\n",
      "5/4/17 0:00 : 1133.079314\n",
      "6/4/17 0:00 : -\n",
      "7/4/17 0:00 : -\n",
      "8/4/17 0:00 : 1181.149838\n",
      "9/4/17 0:00 : 1208.8005\n",
      "10/4/17 0:00 : 1207.744875\n",
      "11/4/17 0:00 : 1226.617038\n"
     ]
    }
   ],
   "source": [
    "with open('D:\\Desktop\\File Jupiter NoteBook\\FreeCodeCamp/btc-market-price_miss.csv', 'r') as fp:\n",
    "    reader = csv.reader(fp)\n",
    "    for index, (timestamp, price) in enumerate(reader):\n",
    "        if(index < 10):\n",
    "            print(f'{timestamp} : {price}')"
   ]
  },
  {
   "cell_type": "code",
   "execution_count": 63,
   "id": "513e0971",
   "metadata": {},
   "outputs": [
    {
     "name": "stdout",
     "output_type": "stream",
     "text": [
      "<class 'pandas.core.frame.DataFrame'>\n",
      "RangeIndex: 365 entries, 0 to 364\n",
      "Data columns (total 2 columns):\n",
      " #   Column     Non-Null Count  Dtype         \n",
      "---  ------     --------------  -----         \n",
      " 0   Timestamp  365 non-null    datetime64[ns]\n",
      " 1   Price      354 non-null    float64       \n",
      "dtypes: datetime64[ns](1), float64(1)\n",
      "memory usage: 5.8 KB\n"
     ]
    },
    {
     "data": {
      "text/html": [
       "<div>\n",
       "<style scoped>\n",
       "    .dataframe tbody tr th:only-of-type {\n",
       "        vertical-align: middle;\n",
       "    }\n",
       "\n",
       "    .dataframe tbody tr th {\n",
       "        vertical-align: top;\n",
       "    }\n",
       "\n",
       "    .dataframe thead th {\n",
       "        text-align: right;\n",
       "    }\n",
       "</style>\n",
       "<table border=\"1\" class=\"dataframe\">\n",
       "  <thead>\n",
       "    <tr style=\"text-align: right;\">\n",
       "      <th></th>\n",
       "      <th>Timestamp</th>\n",
       "      <th>Price</th>\n",
       "    </tr>\n",
       "  </thead>\n",
       "  <tbody>\n",
       "    <tr>\n",
       "      <th>0</th>\n",
       "      <td>2017-02-04</td>\n",
       "      <td>1099.169125</td>\n",
       "    </tr>\n",
       "    <tr>\n",
       "      <th>1</th>\n",
       "      <td>2017-03-04</td>\n",
       "      <td>1141.813000</td>\n",
       "    </tr>\n",
       "    <tr>\n",
       "      <th>2</th>\n",
       "      <td>2017-04-04</td>\n",
       "      <td>NaN</td>\n",
       "    </tr>\n",
       "    <tr>\n",
       "      <th>3</th>\n",
       "      <td>2017-05-04</td>\n",
       "      <td>1133.079314</td>\n",
       "    </tr>\n",
       "    <tr>\n",
       "      <th>4</th>\n",
       "      <td>2017-06-04</td>\n",
       "      <td>NaN</td>\n",
       "    </tr>\n",
       "    <tr>\n",
       "      <th>...</th>\n",
       "      <td>...</td>\n",
       "      <td>...</td>\n",
       "    </tr>\n",
       "    <tr>\n",
       "      <th>360</th>\n",
       "      <td>2018-03-28</td>\n",
       "      <td>7960.380000</td>\n",
       "    </tr>\n",
       "    <tr>\n",
       "      <th>361</th>\n",
       "      <td>2018-03-29</td>\n",
       "      <td>7172.280000</td>\n",
       "    </tr>\n",
       "    <tr>\n",
       "      <th>362</th>\n",
       "      <td>2018-03-30</td>\n",
       "      <td>6882.531667</td>\n",
       "    </tr>\n",
       "    <tr>\n",
       "      <th>363</th>\n",
       "      <td>2018-03-31</td>\n",
       "      <td>6935.480000</td>\n",
       "    </tr>\n",
       "    <tr>\n",
       "      <th>364</th>\n",
       "      <td>2018-01-04</td>\n",
       "      <td>6794.105000</td>\n",
       "    </tr>\n",
       "  </tbody>\n",
       "</table>\n",
       "<p>365 rows × 2 columns</p>\n",
       "</div>"
      ],
      "text/plain": [
       "     Timestamp        Price\n",
       "0   2017-02-04  1099.169125\n",
       "1   2017-03-04  1141.813000\n",
       "2   2017-04-04          NaN\n",
       "3   2017-05-04  1133.079314\n",
       "4   2017-06-04          NaN\n",
       "..         ...          ...\n",
       "360 2018-03-28  7960.380000\n",
       "361 2018-03-29  7172.280000\n",
       "362 2018-03-30  6882.531667\n",
       "363 2018-03-31  6935.480000\n",
       "364 2018-01-04  6794.105000\n",
       "\n",
       "[365 rows x 2 columns]"
      ]
     },
     "execution_count": 63,
     "metadata": {},
     "output_type": "execute_result"
    }
   ],
   "source": [
    "df = pd.read_csv('D:\\Desktop\\File Jupiter NoteBook\\FreeCodeCamp/btc-market-price_miss.csv',\n",
    "                 header=None,\n",
    "                 na_values=['', '?', '-'],\n",
    "                 names=['Timestamp', 'Price'],\n",
    "                 dtype={'Price': 'float'}, \n",
    "                 parse_dates=[0])\n",
    "df.info()\n",
    "df"
   ]
  },
  {
   "cell_type": "code",
   "execution_count": null,
   "id": "34d577a4",
   "metadata": {},
   "outputs": [],
   "source": []
  }
 ],
 "metadata": {
  "kernelspec": {
   "display_name": "Python 3 (ipykernel)",
   "language": "python",
   "name": "python3"
  },
  "language_info": {
   "codemirror_mode": {
    "name": "ipython",
    "version": 3
   },
   "file_extension": ".py",
   "mimetype": "text/x-python",
   "name": "python",
   "nbconvert_exporter": "python",
   "pygments_lexer": "ipython3",
   "version": "3.9.7"
  }
 },
 "nbformat": 4,
 "nbformat_minor": 5
}
